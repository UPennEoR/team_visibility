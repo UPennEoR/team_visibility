{
 "cells": [
  {
   "cell_type": "code",
   "execution_count": 9,
   "metadata": {
    "collapsed": true
   },
   "outputs": [],
   "source": [
    "import glob\n",
    "import numpy as np\n",
    "import capo\n",
    "# import matplotlib\n",
    "# matplotlib.use('Agg')\n",
    "import matplotlib.pyplot as plt\n",
    "import imageio\n",
    "import os\n",
    "import hsa7458_v001 as cal\n",
    "from operator import itemgetter\n",
    "%matplotlib inline"
   ]
  },
  {
   "cell_type": "code",
   "execution_count": 10,
   "metadata": {
    "collapsed": true
   },
   "outputs": [],
   "source": [
    "data_dir = '/home/champ10/Desktop/Test1/'"
   ]
  },
  {
   "cell_type": "code",
   "execution_count": 11,
   "metadata": {
    "collapsed": true
   },
   "outputs": [],
   "source": [
    "data = sorted(glob.glob(''.join([data_dir, 'zen.*.npz'])))\n",
    "datadict = np.load(data[0])"
   ]
  },
  {
   "cell_type": "code",
   "execution_count": 12,
   "metadata": {
    "collapsed": true
   },
   "outputs": [],
   "source": [
    "def calculate_baseline(antennae, pair):\n",
    "    \"\"\"\n",
    "    The decimal module is necessary for keeping the number of decimal places small.\n",
    "    Due to small imprecision, if more than 8 or 9 decimal places are used, \n",
    "    many baselines will be calculated that are within ~1 nanometer to ~1 picometer of each other.\n",
    "    Because HERA's position precision is down to the centimeter, there is no \n",
    "    need to worry about smaller imprecision.\n",
    "    \"\"\"\n",
    "\n",
    "    dx = antennae[pair[0]]['top_x'] - antennae[pair[1]]['top_x']\n",
    "    dy = antennae[pair[0]]['top_y'] - antennae[pair[1]]['top_y']\n",
    "    baseline = np.around([np.sqrt(dx**2. + dy**2.)],3)[0] #XXX this may need tuning\n",
    "    slope = dy/np.float64(dx)\n",
    "    if slope == -np.inf:\n",
    "        slope = slope * -1\n",
    "    elif slope == 0:\n",
    "        slope = slope + 0\n",
    "\n",
    "    ps = (pair[0],pair[1],\"%.2f\" % slope)\n",
    "    return \"%.1f\" % baseline,ps"
   ]
  },
  {
   "cell_type": "code",
   "execution_count": 13,
   "metadata": {},
   "outputs": [
    {
     "name": "stderr",
     "output_type": "stream",
     "text": [
      "/home/champ10/anaconda2/lib/python2.7/site-packages/ipykernel_launcher.py:13: RuntimeWarning: divide by zero encountered in double_scalars\n",
      "  del sys.path[0]\n"
     ]
    }
   ],
   "source": [
    "ex_ants=[81]\n",
    "antennae = cal.prms['antpos_ideal']\n",
    "baselines = {}\n",
    "\n",
    "\n",
    "for antenna_i in antennae:\n",
    "    if antennae[antenna_i]['top_z'] < 0.:\n",
    "        continue\n",
    "    if antenna_i in ex_ants:\n",
    "        continue\n",
    "        \n",
    "    for antenna_j in antennae:\n",
    "        if antennae[antenna_j]['top_z'] < 0.:\n",
    "            continue\n",
    "        if antenna_j in ex_ants:\n",
    "            continue\n",
    "\n",
    "        if antenna_i == antenna_j:\n",
    "            continue\n",
    "        elif antenna_i < antenna_j:\n",
    "            pair = (antenna_i, antenna_j)\n",
    "        elif antenna_i > antenna_j:\n",
    "            pair = (antenna_j, antenna_i)\n",
    "        \n",
    "        baseline,ps = calculate_baseline(antennae, pair)\n",
    "        \n",
    "        if (baseline not in baselines):\n",
    "            baselines[baseline] = [ps]\n",
    "        elif (pair in baselines[baseline]):\n",
    "            continue\n",
    "        else:\n",
    "            baselines[baseline].append(ps)\n",
    "            \n",
    "            \n"
   ]
  },
  {
   "cell_type": "code",
   "execution_count": 14,
   "metadata": {
    "scrolled": false
   },
   "outputs": [
    {
     "name": "stdout",
     "output_type": "stream",
     "text": [
      "i= 14.6\n",
      "i= 25.3\n",
      "i= 29.2\n",
      "i= 38.6\n",
      "i= 43.8\n",
      "i= 50.6\n",
      "i= 52.6\n",
      "i= 58.4\n"
     ]
    }
   ],
   "source": [
    "\n",
    "keys = sorted(baselines) \n",
    "xr = np.arange(100.,200.,100./1024)\n",
    "\n",
    "for i in keys:\n",
    "    \n",
    "    x= sorted(set(baselines[i]),key=itemgetter(2))\n",
    "    print 'i=',i\n",
    "    #print x\n",
    "    \n",
    "    seen = set()\n",
    "    [item for item in x if item[2] not in seen and not seen.add(item[2])]\n",
    "    seen =  sorted(seen)\n",
    "    \n",
    "    \n",
    "    for q in seen:\n",
    "        res = [k for k in x if q in k]\n",
    "    \n",
    "        #print res\n",
    "\n",
    "        plt.figure(figsize=(10,10))\n",
    "        for elem,antstr in enumerate(res):\n",
    "\n",
    "            antstr1 = \"%s_%s\" % (res[elem][0], res[elem][1])\n",
    "            #print antstr1\n",
    "            \n",
    "            qwerty = datadict['avgstokes_dict']\n",
    "            qwerty = qwerty.item()\n",
    "            \n",
    "            \n",
    "            stokes_i = abs(np.vectorize(complex)(qwerty['{}'.format(antstr1)]['i_real'],qwerty['{}'.format(antstr1)]['i_imag']))\n",
    "            stokes_q = abs(np.vectorize(complex)(qwerty['{}'.format(antstr1)]['q_real'],qwerty['{}'.format(antstr1)]['q_imag']))\n",
    "            stokes_u = abs(np.vectorize(complex)(qwerty['{}'.format(antstr1)]['u_real'],qwerty['{}'.format(antstr1)]['u_imag']))\n",
    "            stokes_v = abs(np.vectorize(complex)(qwerty['{}'.format(antstr1)]['v_real'],qwerty['{}'.format(antstr1)]['v_imag']))\n",
    "            \n",
    "            \n",
    "            plt.subplot(411)\n",
    "            plt.plot(xr,stokes_i)\n",
    "            plt.title('Stokes I bs:%s m:%s '%(i , q),fontsize = 10)\n",
    "            plt.xlabel('Frequency (MHz)',fontsize = 8)\n",
    "            plt.ylabel('Average power',fontsize = 8)\n",
    "            \n",
    "            \n",
    "            plt.subplot(412)\n",
    "            plt.plot(xr,stokes_q)\n",
    "            plt.title('Stokes Q bs:%s m:%s '%(i , q),fontsize = 10)\n",
    "            plt.xlabel('Frequency (MHz)',fontsize = 8)\n",
    "            plt.ylabel('Average power',fontsize = 8)\n",
    "            \n",
    "            \n",
    "            plt.subplot(413)\n",
    "            plt.plot(xr,stokes_u)\n",
    "            plt.title('Stokes U bs:%s m:%s '%(i , q),fontsize = 10)\n",
    "            plt.xlabel('Frequency (MHz)',fontsize = 8)\n",
    "            plt.ylabel('Average power',fontsize = 8)\n",
    "            \n",
    "            \n",
    "            plt.subplot(414)\n",
    "            plt.plot(xr,stokes_v)\n",
    "            plt.title('Stokes V bs:%s m:%s '%(i , q),fontsize = 10)\n",
    "            plt.xlabel('Frequency (MHz)',fontsize = 8)\n",
    "            plt.ylabel('Average power',fontsize = 8)\n",
    "            \n",
    "        plt.tight_layout()\n",
    "        plt.savefig('/home/champ10/Desktop/Test1/zen.2457746.avgstokes_{}_{}.png'.format(i,q))\n",
    "        plt.close()\n",
    "\n",
    "            \n",
    "        "
   ]
  },
  {
   "cell_type": "code",
   "execution_count": null,
   "metadata": {
    "collapsed": true
   },
   "outputs": [],
   "source": [
    "\n",
    "    "
   ]
  },
  {
   "cell_type": "code",
   "execution_count": null,
   "metadata": {
    "collapsed": true
   },
   "outputs": [],
   "source": []
  },
  {
   "cell_type": "code",
   "execution_count": null,
   "metadata": {
    "collapsed": true
   },
   "outputs": [],
   "source": []
  }
 ],
 "metadata": {
  "kernelspec": {
   "display_name": "Python [default]",
   "language": "python",
   "name": "python2"
  },
  "language_info": {
   "codemirror_mode": {
    "name": "ipython",
    "version": 2
   },
   "file_extension": ".py",
   "mimetype": "text/x-python",
   "name": "python",
   "nbconvert_exporter": "python",
   "pygments_lexer": "ipython2",
   "version": "2.7.13"
  }
 },
 "nbformat": 4,
 "nbformat_minor": 2
}
