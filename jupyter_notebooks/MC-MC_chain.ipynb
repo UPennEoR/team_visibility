{
 "cells": [
  {
   "cell_type": "code",
   "execution_count": 2,
   "metadata": {
    "collapsed": true
   },
   "outputs": [],
   "source": [
    "import numpy as np\n",
    "import scipy.stats as stats\n",
    "import matplotlib.pyplot as plt\n",
    "%matplotlib inline"
   ]
  },
  {
   "cell_type": "code",
   "execution_count": 22,
   "metadata": {
    "scrolled": true
   },
   "outputs": [
    {
     "name": "stdout",
     "output_type": "stream",
     "text": [
      "Completed iteration no. 10000.\n",
      "Completed iteration no. 20000.\n",
      "Completed iteration no. 30000.\n",
      "Completed iteration no. 40000.\n",
      "Completed iteration no. 50000.\n",
      "Completed iteration no. 60000.\n",
      "Completed iteration no. 70000.\n",
      "Completed iteration no. 80000.\n",
      "Completed iteration no. 90000.\n",
      "Completed iteration no. 100000.\n",
      "Completed iteration no. 110000.\n",
      "Completed iteration no. 120000.\n",
      "Completed iteration no. 130000.\n",
      "Completed iteration no. 140000.\n",
      "Completed iteration no. 150000.\n",
      "Completed iteration no. 160000.\n",
      "Completed iteration no. 170000.\n",
      "Completed iteration no. 180000.\n",
      "Completed iteration no. 190000.\n",
      "Completed iteration no. 200000.\n",
      "Completed iteration no. 210000.\n",
      "Completed iteration no. 220000.\n",
      "Completed iteration no. 230000.\n",
      "Completed iteration no. 240000.\n",
      "Completed iteration no. 250000.\n",
      "Completed iteration no. 260000.\n",
      "Completed iteration no. 270000.\n",
      "Completed iteration no. 280000.\n",
      "Completed iteration no. 290000.\n",
      "Completed iteration no. 300000.\n",
      "Completed iteration no. 310000.\n",
      "Completed iteration no. 320000.\n",
      "Completed iteration no. 330000.\n",
      "Completed iteration no. 340000.\n",
      "Completed iteration no. 350000.\n",
      "Completed iteration no. 360000.\n",
      "Completed iteration no. 370000.\n",
      "Completed iteration no. 380000.\n",
      "Completed iteration no. 390000.\n",
      "Completed iteration no. 400000.\n",
      "Completed iteration no. 410000.\n",
      "Completed iteration no. 420000.\n",
      "Completed iteration no. 430000.\n",
      "Completed iteration no. 440000.\n",
      "Completed iteration no. 450000.\n",
      "Completed iteration no. 460000.\n",
      "Completed iteration no. 470000.\n",
      "Completed iteration no. 480000.\n",
      "Completed iteration no. 490000.\n",
      "Completed iteration no. 500000.\n"
     ]
    }
   ],
   "source": [
    "Niter = 500000\n",
    "mut = np.zeros(Niter+1)  # array for samples of mu\n",
    "accept = np.zeros(Niter)  \n",
    "mut[0] = 0  \n",
    "sigma = 20.  # st. dev. of proposal distribution\n",
    "nu = 2  # degrees of freedom for t-distribution (target posterior dist.)\n",
    "\n",
    "for i in range(Niter):\n",
    "    mustar = stats.norm.rvs(loc=mut[i], scale=sigma)\n",
    "    # mustar = mut[i] + stats.norm.rvs(loc=0, scale=sigma)\n",
    "    #posterior ratio\n",
    "    r = ((nu + mustar**2.)/(nu + mut[i]**2.))**(-(nu+1)/2.)\n",
    "    alpha = np.minimum(r,1)\n",
    "    \n",
    "    u = np.random.random()\n",
    "    # print u \n",
    "    if (u < alpha):\n",
    "        mut[i+1] = mustar\n",
    "        accept[i] = 1\n",
    "    else:\n",
    "        mut[i+1] = mut[i]\n",
    "        accept[i] = 0\n",
    "    if ((i+1) % 10000 == 0):\n",
    "        print(\"Completed iteration no. %d.\" % (i+1))"
   ]
  },
  {
   "cell_type": "code",
   "execution_count": 23,
   "metadata": {
    "scrolled": false
   },
   "outputs": [
    {
     "name": "stdout",
     "output_type": "stream",
     "text": [
      "The acceptance rate of M-H algorithm is 0.10.\n"
     ]
    },
    {
     "data": {
      "image/png": "[encoded data removed]",
      "text/plain": [
       "<matplotlib.figure.Figure at 0x7fd555dcd650>"
      ]
     },
     "metadata": {},
     "output_type": "display_data"
    },
    {
     "data": {
      "image/png": "[encoded data removed]",
      "text/plain": [
       "<matplotlib.figure.Figure at 0x7fd555dcd5d0>"
      ]
     },
     "metadata": {},
     "output_type": "display_data"
    }
   ],
   "source": [
    "print(\"The acceptance rate of M-H algorithm is %.2f.\" % np.mean(accept))\n",
    "\n",
    "burnin = 0 # how many samples to discard at beginning of chain\n",
    "mut_pbi = mut[burnin+1:]  # cut off the burn-in portion of the chain\n",
    "\n",
    "plt.plot(mut_pbi)\n",
    "plt.ylim(-30,30)\n",
    "plt.xlabel(\"Iteration no.\")\n",
    "plt.ylabel(r\"$\\mu$\")\n",
    "plt.title(r\"MCMC chain for $\\mu$\")\n",
    "plt.show()\n",
    "\n",
    "binedges = np.linspace(start=-100.5, stop=100.5, num=202)\n",
    "\n",
    "plt.hist(mut_pbi, bins=binedges, normed=True,\n",
    "        label=\"MCMC result\")\n",
    "plt.hist(stats.t.rvs(df=2, size=Niter-burnin), bins=binedges,\n",
    "         color=\"OrangeRed\", alpha=0.7, normed=True,\n",
    "        label=\"Exact result\")\n",
    "plt.xlim(-10,10)\n",
    "plt.xlabel(r\"Posterior distribution of $\\mu$\")\n",
    "plt.legend(loc=0)\n",
    "plt.show()"
   ]
  },
  {
   "cell_type": "code",
   "execution_count": null,
   "metadata": {
    "collapsed": true
   },
   "outputs": [],
   "source": []
  }
 ],
 "metadata": {
  "kernelspec": {
   "display_name": "Python [default]",
   "language": "python",
   "name": "python2"
  },
  "language_info": {
   "codemirror_mode": {
    "name": "ipython",
    "version": 2
   },
   "file_extension": ".py",
   "mimetype": "text/x-python",
   "name": "python",
   "nbconvert_exporter": "python",
   "pygments_lexer": "ipython2",
   "version": "2.7.13"
  }
 },
 "nbformat": 4,
 "nbformat_minor": 2
}
